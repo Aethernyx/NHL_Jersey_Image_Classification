{
 "cells": [
  {
   "cell_type": "code",
   "execution_count": 21,
   "metadata": {},
   "outputs": [],
   "source": [
    "import pandas as pd\n",
    "import numpy as np\n",
    "import matplotlib.pyplot as plt\n",
    "%matplotlib inline\n",
    "import os\n",
    "import PIL\n",
    "import cv2\n",
    "from tqdm import tqdm\n",
    "\n",
    "from sklearn.model_selection import train_test_split\n",
    "import tensorflow.keras \n",
    "from tensorflow.keras.utils import to_categorical \n",
    "from tensorflow.keras.models import Sequential \n",
    "from tensorflow.keras.layers import Conv2D, MaxPool2D \n",
    "from tensorflow.keras.layers import Dense, Dropout, Activation, Flatten, BatchNormalization\n",
    "from tensorflow.keras.preprocessing.image import ImageDataGenerator\n",
    "from tensorflow.keras import backend as K\n",
    "from tensorflow.keras.preprocessing import image"
   ]
  },
  {
   "cell_type": "code",
   "execution_count": 2,
   "metadata": {},
   "outputs": [],
   "source": [
    "abs_path = '/Users/alex/desktop/python_work/python_projects/NHL_Jersey_Classifiers/team_jersey_images/'\n",
    "\n",
    "teams = [team for team in os.listdir(abs_path)]"
   ]
  },
  {
   "cell_type": "code",
   "execution_count": 3,
   "metadata": {},
   "outputs": [],
   "source": [
    "df = pd.DataFrame(columns=['id', 'team'])\n",
    "\n",
    "for team in teams:\n",
    "        path = os.path.join(abs_path, team)\n",
    "    \n",
    "        for images in os.listdir(path):\n",
    "\n",
    "            df2 = pd.DataFrame([[images, team]], columns=['id', 'team'])\n",
    "            df = df.append(df2)"
   ]
  },
  {
   "cell_type": "code",
   "execution_count": 4,
   "metadata": {},
   "outputs": [],
   "source": [
    "dummies = pd.get_dummies(df['team'])"
   ]
  },
  {
   "cell_type": "code",
   "execution_count": 5,
   "metadata": {
    "scrolled": true
   },
   "outputs": [
    {
     "data": {
      "text/html": [
       "<div>\n",
       "<style scoped>\n",
       "    .dataframe tbody tr th:only-of-type {\n",
       "        vertical-align: middle;\n",
       "    }\n",
       "\n",
       "    .dataframe tbody tr th {\n",
       "        vertical-align: top;\n",
       "    }\n",
       "\n",
       "    .dataframe thead th {\n",
       "        text-align: right;\n",
       "    }\n",
       "</style>\n",
       "<table border=\"1\" class=\"dataframe\">\n",
       "  <thead>\n",
       "    <tr style=\"text-align: right;\">\n",
       "      <th></th>\n",
       "      <th>id</th>\n",
       "      <th>team</th>\n",
       "      <th>Anaheim Ducks</th>\n",
       "      <th>Arizona Coyotes</th>\n",
       "      <th>Boston Bruins</th>\n",
       "      <th>Buffalo Sabres</th>\n",
       "      <th>Calgary Flames</th>\n",
       "      <th>Carolina Hurricanes</th>\n",
       "      <th>Chicago Blackhawks</th>\n",
       "      <th>Colorado Avalanche</th>\n",
       "      <th>...</th>\n",
       "      <th>Philadelphia Flyers</th>\n",
       "      <th>Pittsburgh Penguins</th>\n",
       "      <th>San Jose Sharks</th>\n",
       "      <th>St. Louis Blues</th>\n",
       "      <th>Tampa Bay Lightning</th>\n",
       "      <th>Toronto Maple Leafs</th>\n",
       "      <th>Vancouver Canucks</th>\n",
       "      <th>Vegas Golden Knights</th>\n",
       "      <th>Washington Capitals</th>\n",
       "      <th>Winnipeg Jets</th>\n",
       "    </tr>\n",
       "  </thead>\n",
       "  <tbody>\n",
       "    <tr>\n",
       "      <th>0</th>\n",
       "      <td>ac4a5f88e8.jpg</td>\n",
       "      <td>Vancouver Canucks</td>\n",
       "      <td>0</td>\n",
       "      <td>0</td>\n",
       "      <td>0</td>\n",
       "      <td>0</td>\n",
       "      <td>0</td>\n",
       "      <td>0</td>\n",
       "      <td>0</td>\n",
       "      <td>0</td>\n",
       "      <td>...</td>\n",
       "      <td>0</td>\n",
       "      <td>0</td>\n",
       "      <td>0</td>\n",
       "      <td>0</td>\n",
       "      <td>0</td>\n",
       "      <td>0</td>\n",
       "      <td>1</td>\n",
       "      <td>0</td>\n",
       "      <td>0</td>\n",
       "      <td>0</td>\n",
       "    </tr>\n",
       "    <tr>\n",
       "      <th>1</th>\n",
       "      <td>455b42f201.jpg</td>\n",
       "      <td>Vancouver Canucks</td>\n",
       "      <td>0</td>\n",
       "      <td>0</td>\n",
       "      <td>0</td>\n",
       "      <td>0</td>\n",
       "      <td>0</td>\n",
       "      <td>0</td>\n",
       "      <td>0</td>\n",
       "      <td>0</td>\n",
       "      <td>...</td>\n",
       "      <td>0</td>\n",
       "      <td>0</td>\n",
       "      <td>0</td>\n",
       "      <td>0</td>\n",
       "      <td>0</td>\n",
       "      <td>0</td>\n",
       "      <td>1</td>\n",
       "      <td>0</td>\n",
       "      <td>0</td>\n",
       "      <td>0</td>\n",
       "    </tr>\n",
       "    <tr>\n",
       "      <th>2</th>\n",
       "      <td>c1cf83a1bf.jpg</td>\n",
       "      <td>Vancouver Canucks</td>\n",
       "      <td>0</td>\n",
       "      <td>0</td>\n",
       "      <td>0</td>\n",
       "      <td>0</td>\n",
       "      <td>0</td>\n",
       "      <td>0</td>\n",
       "      <td>0</td>\n",
       "      <td>0</td>\n",
       "      <td>...</td>\n",
       "      <td>0</td>\n",
       "      <td>0</td>\n",
       "      <td>0</td>\n",
       "      <td>0</td>\n",
       "      <td>0</td>\n",
       "      <td>0</td>\n",
       "      <td>1</td>\n",
       "      <td>0</td>\n",
       "      <td>0</td>\n",
       "      <td>0</td>\n",
       "    </tr>\n",
       "    <tr>\n",
       "      <th>3</th>\n",
       "      <td>59f8a94088.jpg</td>\n",
       "      <td>Vancouver Canucks</td>\n",
       "      <td>0</td>\n",
       "      <td>0</td>\n",
       "      <td>0</td>\n",
       "      <td>0</td>\n",
       "      <td>0</td>\n",
       "      <td>0</td>\n",
       "      <td>0</td>\n",
       "      <td>0</td>\n",
       "      <td>...</td>\n",
       "      <td>0</td>\n",
       "      <td>0</td>\n",
       "      <td>0</td>\n",
       "      <td>0</td>\n",
       "      <td>0</td>\n",
       "      <td>0</td>\n",
       "      <td>1</td>\n",
       "      <td>0</td>\n",
       "      <td>0</td>\n",
       "      <td>0</td>\n",
       "    </tr>\n",
       "    <tr>\n",
       "      <th>4</th>\n",
       "      <td>432926b45e.jpg</td>\n",
       "      <td>Vancouver Canucks</td>\n",
       "      <td>0</td>\n",
       "      <td>0</td>\n",
       "      <td>0</td>\n",
       "      <td>0</td>\n",
       "      <td>0</td>\n",
       "      <td>0</td>\n",
       "      <td>0</td>\n",
       "      <td>0</td>\n",
       "      <td>...</td>\n",
       "      <td>0</td>\n",
       "      <td>0</td>\n",
       "      <td>0</td>\n",
       "      <td>0</td>\n",
       "      <td>0</td>\n",
       "      <td>0</td>\n",
       "      <td>1</td>\n",
       "      <td>0</td>\n",
       "      <td>0</td>\n",
       "      <td>0</td>\n",
       "    </tr>\n",
       "  </tbody>\n",
       "</table>\n",
       "<p>5 rows × 33 columns</p>\n",
       "</div>"
      ],
      "text/plain": [
       "               id               team  Anaheim Ducks  Arizona Coyotes  \\\n",
       "0  ac4a5f88e8.jpg  Vancouver Canucks              0                0   \n",
       "1  455b42f201.jpg  Vancouver Canucks              0                0   \n",
       "2  c1cf83a1bf.jpg  Vancouver Canucks              0                0   \n",
       "3  59f8a94088.jpg  Vancouver Canucks              0                0   \n",
       "4  432926b45e.jpg  Vancouver Canucks              0                0   \n",
       "\n",
       "   Boston Bruins  Buffalo Sabres  Calgary Flames  Carolina Hurricanes  \\\n",
       "0              0               0               0                    0   \n",
       "1              0               0               0                    0   \n",
       "2              0               0               0                    0   \n",
       "3              0               0               0                    0   \n",
       "4              0               0               0                    0   \n",
       "\n",
       "   Chicago Blackhawks  Colorado Avalanche  ...  Philadelphia Flyers  \\\n",
       "0                   0                   0  ...                    0   \n",
       "1                   0                   0  ...                    0   \n",
       "2                   0                   0  ...                    0   \n",
       "3                   0                   0  ...                    0   \n",
       "4                   0                   0  ...                    0   \n",
       "\n",
       "   Pittsburgh Penguins  San Jose Sharks  St. Louis Blues  Tampa Bay Lightning  \\\n",
       "0                    0                0                0                    0   \n",
       "1                    0                0                0                    0   \n",
       "2                    0                0                0                    0   \n",
       "3                    0                0                0                    0   \n",
       "4                    0                0                0                    0   \n",
       "\n",
       "   Toronto Maple Leafs  Vancouver Canucks  Vegas Golden Knights  \\\n",
       "0                    0                  1                     0   \n",
       "1                    0                  1                     0   \n",
       "2                    0                  1                     0   \n",
       "3                    0                  1                     0   \n",
       "4                    0                  1                     0   \n",
       "\n",
       "   Washington Capitals  Winnipeg Jets  \n",
       "0                    0              0  \n",
       "1                    0              0  \n",
       "2                    0              0  \n",
       "3                    0              0  \n",
       "4                    0              0  \n",
       "\n",
       "[5 rows x 33 columns]"
      ]
     },
     "execution_count": 5,
     "metadata": {},
     "output_type": "execute_result"
    }
   ],
   "source": [
    "df = pd.concat([df, dummies], axis=1)\n",
    "df.reset_index(drop=True, inplace=True)\n",
    "df.head()"
   ]
  },
  {
   "cell_type": "code",
   "execution_count": 11,
   "metadata": {},
   "outputs": [
    {
     "name": "stderr",
     "output_type": "stream",
     "text": [
      "100%|██████████| 31/31 [00:34<00:00,  1.11s/it]\n"
     ]
    }
   ],
   "source": [
    "img_width, img_height = 150, 150\n",
    "\n",
    "X = []\n",
    "\n",
    "for team in tqdm(teams):\n",
    "    path = os.path.join(abs_path, team)\n",
    "    \n",
    "    for images in os.listdir(path):\n",
    "        img_path = os.path.join(path, images)\n",
    "        img = image.load_img(img_path, target_size=(img_width, img_height, 3))\n",
    "        img = image.img_to_array(img)\n",
    "        img /= 255.0\n",
    "        \n",
    "        X.append(img)\n",
    "\n",
    "X = np.array(X)"
   ]
  },
  {
   "cell_type": "code",
   "execution_count": 13,
   "metadata": {},
   "outputs": [],
   "source": [
    "y = df.drop(['id', 'team'], axis=1)\n",
    "y = y.to_numpy()"
   ]
  },
  {
   "cell_type": "code",
   "execution_count": 14,
   "metadata": {},
   "outputs": [],
   "source": [
    "X_train, X_test, y_train, y_test = train_test_split(X, y, test_size=0.2, random_state=101)"
   ]
  },
  {
   "cell_type": "code",
   "execution_count": 18,
   "metadata": {},
   "outputs": [
    {
     "data": {
      "text/plain": [
       "(2508, 31)"
      ]
     },
     "execution_count": 18,
     "metadata": {},
     "output_type": "execute_result"
    }
   ],
   "source": [
    "y_train.shape"
   ]
  },
  {
   "cell_type": "code",
   "execution_count": 54,
   "metadata": {},
   "outputs": [],
   "source": [
    "model = Sequential()\n",
    "model.add(Conv2D(16, (3, 3), activation='relu', input_shape=(img_width, img_height, 3)))\n",
    "model.add(BatchNormalization())\n",
    "model.add(MaxPool2D(2, 2))\n",
    "model.add(Dropout(0.2))\n",
    "\n",
    "model.add(Conv2D(32, (3, 3), activation='relu'))\n",
    "model.add(BatchNormalization())\n",
    "model.add(MaxPool2D(2, 2))\n",
    "model.add(Dropout(0.4))\n",
    "\n",
    "model.add(Conv2D(64,(3, 3), activation='relu',))\n",
    "model.add(BatchNormalization())\n",
    "model.add(MaxPool2D(2, 2))\n",
    "model.add(Dropout(0.45))\n",
    "\n",
    "model.add(Conv2D(128,(3, 3), activation='relu'))\n",
    "model.add(BatchNormalization())\n",
    "model.add(MaxPool2D(2, 2))\n",
    "model.add(Dropout(0.5))\n",
    "\n",
    "\n",
    "model.add(Flatten())\n",
    "\n",
    "model.add(Dense(128, activation='softmax'))\n",
    "model.add(BatchNormalization())\n",
    "model.add(Dropout(0.5))\n",
    "\n",
    "model.add(Dense(128, activation='softmax'))\n",
    "model.add(BatchNormalization())\n",
    "model.add(Dropout(0.5))\n",
    "\n",
    "model.add(Dense(31, activation='softmax'))"
   ]
  },
  {
   "cell_type": "code",
   "execution_count": 23,
   "metadata": {
    "scrolled": true
   },
   "outputs": [
    {
     "name": "stdout",
     "output_type": "stream",
     "text": [
      "Model: \"sequential_2\"\n",
      "_________________________________________________________________\n",
      "Layer (type)                 Output Shape              Param #   \n",
      "=================================================================\n",
      "conv2d_1 (Conv2D)            (None, 148, 148, 16)      448       \n",
      "_________________________________________________________________\n",
      "batch_normalization_1 (Batch (None, 148, 148, 16)      64        \n",
      "_________________________________________________________________\n",
      "max_pooling2d (MaxPooling2D) (None, 74, 74, 16)        0         \n",
      "_________________________________________________________________\n",
      "dropout (Dropout)            (None, 74, 74, 16)        0         \n",
      "_________________________________________________________________\n",
      "conv2d_2 (Conv2D)            (None, 72, 72, 32)        4640      \n",
      "_________________________________________________________________\n",
      "batch_normalization_2 (Batch (None, 72, 72, 32)        128       \n",
      "_________________________________________________________________\n",
      "max_pooling2d_1 (MaxPooling2 (None, 36, 36, 32)        0         \n",
      "_________________________________________________________________\n",
      "dropout_1 (Dropout)          (None, 36, 36, 32)        0         \n",
      "_________________________________________________________________\n",
      "conv2d_3 (Conv2D)            (None, 34, 34, 64)        18496     \n",
      "_________________________________________________________________\n",
      "batch_normalization_3 (Batch (None, 34, 34, 64)        256       \n",
      "_________________________________________________________________\n",
      "max_pooling2d_2 (MaxPooling2 (None, 17, 17, 64)        0         \n",
      "_________________________________________________________________\n",
      "dropout_2 (Dropout)          (None, 17, 17, 64)        0         \n",
      "_________________________________________________________________\n",
      "conv2d_4 (Conv2D)            (None, 15, 15, 128)       73856     \n",
      "_________________________________________________________________\n",
      "batch_normalization_4 (Batch (None, 15, 15, 128)       512       \n",
      "_________________________________________________________________\n",
      "max_pooling2d_3 (MaxPooling2 (None, 7, 7, 128)         0         \n",
      "_________________________________________________________________\n",
      "dropout_3 (Dropout)          (None, 7, 7, 128)         0         \n",
      "_________________________________________________________________\n",
      "flatten (Flatten)            (None, 6272)              0         \n",
      "_________________________________________________________________\n",
      "dense (Dense)                (None, 128)               802944    \n",
      "_________________________________________________________________\n",
      "batch_normalization_5 (Batch (None, 128)               512       \n",
      "_________________________________________________________________\n",
      "dropout_4 (Dropout)          (None, 128)               0         \n",
      "_________________________________________________________________\n",
      "dense_1 (Dense)              (None, 128)               16512     \n",
      "_________________________________________________________________\n",
      "batch_normalization_6 (Batch (None, 128)               512       \n",
      "_________________________________________________________________\n",
      "dropout_5 (Dropout)          (None, 128)               0         \n",
      "_________________________________________________________________\n",
      "dense_2 (Dense)              (None, 31)                3999      \n",
      "=================================================================\n",
      "Total params: 922,879\n",
      "Trainable params: 921,887\n",
      "Non-trainable params: 992\n",
      "_________________________________________________________________\n"
     ]
    }
   ],
   "source": [
    "model.summary()"
   ]
  },
  {
   "cell_type": "code",
   "execution_count": 55,
   "metadata": {},
   "outputs": [],
   "source": [
    "model.compile(optimizer='adam', loss='categorical_crossentropy', metrics=['categorical_accuracy'])"
   ]
  },
  {
   "cell_type": "code",
   "execution_count": 56,
   "metadata": {},
   "outputs": [
    {
     "name": "stdout",
     "output_type": "stream",
     "text": [
      "Epoch 1/5\n",
      "79/79 [==============================] - 57s 716ms/step - loss: 3.4364 - categorical_accuracy: 0.0279 - val_loss: 3.4373 - val_categorical_accuracy: 0.0239\n",
      "Epoch 2/5\n",
      "79/79 [==============================] - 54s 678ms/step - loss: 3.4224 - categorical_accuracy: 0.0347 - val_loss: 3.4390 - val_categorical_accuracy: 0.0175\n",
      "Epoch 3/5\n",
      "79/79 [==============================] - 52s 659ms/step - loss: 3.4006 - categorical_accuracy: 0.0419 - val_loss: 3.4408 - val_categorical_accuracy: 0.0287\n",
      "Epoch 4/5\n",
      "79/79 [==============================] - 52s 659ms/step - loss: 3.3821 - categorical_accuracy: 0.0514 - val_loss: 3.4353 - val_categorical_accuracy: 0.0318\n",
      "Epoch 5/5\n",
      "79/79 [==============================] - 51s 650ms/step - loss: 3.3229 - categorical_accuracy: 0.0538 - val_loss: 3.4174 - val_categorical_accuracy: 0.0557\n"
     ]
    }
   ],
   "source": [
    "history = model.fit(X_train, y_train, epochs=5, validation_data=(X_test, y_test))"
   ]
  },
  {
   "cell_type": "code",
   "execution_count": 27,
   "metadata": {},
   "outputs": [
    {
     "data": {
      "text/html": [
       "<div>\n",
       "<style scoped>\n",
       "    .dataframe tbody tr th:only-of-type {\n",
       "        vertical-align: middle;\n",
       "    }\n",
       "\n",
       "    .dataframe tbody tr th {\n",
       "        vertical-align: top;\n",
       "    }\n",
       "\n",
       "    .dataframe thead th {\n",
       "        text-align: right;\n",
       "    }\n",
       "</style>\n",
       "<table border=\"1\" class=\"dataframe\">\n",
       "  <thead>\n",
       "    <tr style=\"text-align: right;\">\n",
       "      <th></th>\n",
       "      <th>id</th>\n",
       "      <th>team</th>\n",
       "    </tr>\n",
       "  </thead>\n",
       "  <tbody>\n",
       "  </tbody>\n",
       "</table>\n",
       "</div>"
      ],
      "text/plain": [
       "Empty DataFrame\n",
       "Columns: [id, team]\n",
       "Index: []"
      ]
     },
     "execution_count": 27,
     "metadata": {},
     "output_type": "execute_result"
    }
   ],
   "source": [
    "\n",
    "\n",
    "training_data = []\n",
    "\n",
    "def create_training_data():\n",
    "    for team in teams:\n",
    "        path = os.path.join(abs_path, team)\n",
    "    \n",
    "\n",
    "        for image in os.listdir(path):\n",
    "            \n",
    "            img = image.load_img(os.path.join(path, image), target_size=(img_width, img_height, 3))\n",
    "\n",
    "            #img_array = cv2.imread(os.path.join(path, image))\n",
    "            #new_array = cv2.resize(img_array, (img_width, img_height))\n",
    "        "
   ]
  },
  {
   "cell_type": "code",
   "execution_count": 67,
   "metadata": {},
   "outputs": [
    {
     "data": {
      "text/plain": [
       "array([22,  7])"
      ]
     },
     "execution_count": 67,
     "metadata": {},
     "output_type": "execute_result"
    }
   ],
   "source": [
    "test_pred = model.predict(X_test)[210]\n",
    "\n",
    "classes_for_pred = df.columns[2:]\n",
    "\n",
    "answer = np.argsort(test_pred)[-2:]\n",
    "answer"
   ]
  },
  {
   "cell_type": "code",
   "execution_count": 70,
   "metadata": {},
   "outputs": [
    {
     "data": {
      "text/plain": [
       "'Colorado Avalanche'"
      ]
     },
     "execution_count": 70,
     "metadata": {},
     "output_type": "execute_result"
    }
   ],
   "source": [
    "classes_for_pred[7]"
   ]
  },
  {
   "cell_type": "code",
   "execution_count": 61,
   "metadata": {},
   "outputs": [
    {
     "data": {
      "text/plain": [
       "<matplotlib.image.AxesImage at 0x14c571880>"
      ]
     },
     "execution_count": 61,
     "metadata": {},
     "output_type": "execute_result"
    },
    {
     "data": {
      "image/png": "[encoded data removed]",
      "text/plain": [
       "<Figure size 432x288 with 1 Axes>"
      ]
     },
     "metadata": {
      "needs_background": "light"
     },
     "output_type": "display_data"
    }
   ],
   "source": [
    "plt.imshow(X_test[210])"
   ]
  },
  {
   "cell_type": "code",
   "execution_count": 46,
   "metadata": {},
   "outputs": [
    {
     "data": {
      "text/plain": [
       "array([7.8863621e-02, 9.0684414e-01, 1.4255420e-06, 1.9234419e-04,\n",
       "       9.9999553e-01, 1.5944242e-04, 1.1228198e-01, 9.9839437e-01,\n",
       "       1.2057681e-07, 6.9729090e-03, 9.9998617e-01, 5.8961391e-01,\n",
       "       9.4133723e-01, 4.4713914e-03, 1.1778146e-02, 9.7618943e-01,\n",
       "       2.5398624e-01, 3.0682910e-05, 6.0092437e-01, 2.4705631e-01,\n",
       "       9.9201047e-01, 9.9918735e-01, 9.9856794e-01, 6.9001406e-02,\n",
       "       6.4004534e-01, 1.5231073e-03, 7.3544097e-01, 6.9778419e-01,\n",
       "       2.3401451e-01, 9.5843351e-01, 1.0862097e-01], dtype=float32)"
      ]
     },
     "execution_count": 46,
     "metadata": {},
     "output_type": "execute_result"
    }
   ],
   "source": [
    "model.predict(X_test)[2]"
   ]
  },
  {
   "cell_type": "code",
   "execution_count": 2,
   "metadata": {},
   "outputs": [],
   "source": [
    "abs_path = '/Users/alex/desktop/python_work/python_projects/NHL_Jersey_Classifiers'\n",
    "os.chdir(abs_path+'/team_jersey_images')\n",
    "\n",
    "jersey_array = []\n",
    "team = []\n",
    "\n",
    "for folder in os.listdir():\n",
    "    \n",
    "    if folder != '.DS_Store':\n",
    "        os.chdir(abs_path+'/team_jersey_images/'+folder)\n",
    "\n",
    "        an_image_home = PIL.Image.open(folder+\"_home_jersey.png\")\n",
    "        image_sequence = an_image_home.getdata()\n",
    "        home_image_array = np.array(image_sequence)\n",
    "\n",
    "        jersey_array.append(home_image_array)\n",
    "        team.append(folder)\n",
    "        \n",
    "        try:\n",
    "\n",
    "            an_image_away = PIL.Image.open(folder+\"_away_jersey.png\")\n",
    "            image_sequence = an_image_away.getdata()\n",
    "            away_image_array = np.array(image_sequence)\n",
    "\n",
    "            jersey_array.append(away_image_array)\n",
    "            team.append(folder)\n",
    "            \n",
    "        except FileNotFoundError:\n",
    "            pass\n",
    "        \n",
    "        try:\n",
    "            an_image_alternate = PIL.Image.open(folder+\"_alternate_jersey.png\")\n",
    "            image_sequence = an_image_alternate.getdata()\n",
    "            alternate_image_array = np.array(image_sequence)\n",
    "            \n",
    "            jersey_array.append(alternate_image_array)\n",
    "            team.append(folder)\n",
    "            \n",
    "        except FileNotFoundError:\n",
    "            pass\n",
    "        "
   ]
  },
  {
   "cell_type": "code",
   "execution_count": 3,
   "metadata": {},
   "outputs": [],
   "source": [
    "jersey_array = np.asarray(jersey_array)"
   ]
  },
  {
   "cell_type": "code",
   "execution_count": 4,
   "metadata": {},
   "outputs": [],
   "source": [
    "df = pd.DataFrame()\n",
    "\n",
    "df['team'] = team\n",
    "\n",
    "team = pd.get_dummies(df['team'])"
   ]
  },
  {
   "cell_type": "code",
   "execution_count": 5,
   "metadata": {},
   "outputs": [],
   "source": [
    "X = jersey_array\n",
    "y = team"
   ]
  },
  {
   "cell_type": "code",
   "execution_count": null,
   "metadata": {},
   "outputs": [],
   "source": []
  },
  {
   "cell_type": "code",
   "execution_count": 8,
   "metadata": {},
   "outputs": [],
   "source": [
    "X_train, X_test, y_train, y_test = train_test_split(X, team, test_size=0.2)"
   ]
  },
  {
   "cell_type": "code",
   "execution_count": 12,
   "metadata": {},
   "outputs": [
    {
     "ename": "ValueError",
     "evalue": "cannot reshape array of size 102060000 into shape (42,28,28,1)",
     "output_type": "error",
     "traceback": [
      "\u001b[0;31m---------------------------------------------------------------------------\u001b[0m",
      "\u001b[0;31mValueError\u001b[0m                                Traceback (most recent call last)",
      "\u001b[0;32m<ipython-input-12-fe1ca9d86b3d>\u001b[0m in \u001b[0;36m<module>\u001b[0;34m\u001b[0m\n\u001b[1;32m      1\u001b[0m \u001b[0mrows\u001b[0m\u001b[0;34m,\u001b[0m \u001b[0mcols\u001b[0m \u001b[0;34m=\u001b[0m \u001b[0;36m28\u001b[0m\u001b[0;34m,\u001b[0m \u001b[0;36m28\u001b[0m\u001b[0;34m\u001b[0m\u001b[0;34m\u001b[0m\u001b[0m\n\u001b[1;32m      2\u001b[0m \u001b[0;34m\u001b[0m\u001b[0m\n\u001b[0;32m----> 3\u001b[0;31m \u001b[0mX_train\u001b[0m \u001b[0;34m=\u001b[0m \u001b[0mX_train\u001b[0m\u001b[0;34m.\u001b[0m\u001b[0mreshape\u001b[0m\u001b[0;34m(\u001b[0m\u001b[0mX_train\u001b[0m\u001b[0;34m.\u001b[0m\u001b[0mshape\u001b[0m\u001b[0;34m[\u001b[0m\u001b[0;36m0\u001b[0m\u001b[0;34m]\u001b[0m\u001b[0;34m,\u001b[0m \u001b[0mrows\u001b[0m\u001b[0;34m,\u001b[0m \u001b[0mcols\u001b[0m\u001b[0;34m,\u001b[0m \u001b[0;36m1\u001b[0m\u001b[0;34m)\u001b[0m\u001b[0;34m\u001b[0m\u001b[0;34m\u001b[0m\u001b[0m\n\u001b[0m\u001b[1;32m      4\u001b[0m \u001b[0mX_test\u001b[0m \u001b[0;34m=\u001b[0m \u001b[0mX_test\u001b[0m\u001b[0;34m.\u001b[0m\u001b[0mreshape\u001b[0m\u001b[0;34m(\u001b[0m\u001b[0mX_test\u001b[0m\u001b[0;34m.\u001b[0m\u001b[0mshape\u001b[0m\u001b[0;34m[\u001b[0m\u001b[0;36m0\u001b[0m\u001b[0;34m]\u001b[0m\u001b[0;34m,\u001b[0m \u001b[0mrows\u001b[0m\u001b[0;34m,\u001b[0m \u001b[0mcols\u001b[0m\u001b[0;34m,\u001b[0m \u001b[0;36m1\u001b[0m\u001b[0;34m)\u001b[0m\u001b[0;34m\u001b[0m\u001b[0;34m\u001b[0m\u001b[0m\n\u001b[1;32m      5\u001b[0m \u001b[0;34m\u001b[0m\u001b[0m\n",
      "\u001b[0;31mValueError\u001b[0m: cannot reshape array of size 102060000 into shape (42,28,28,1)"
     ]
    }
   ],
   "source": [
    "rows, cols = 28, 28\n",
    "\n",
    "X_train = X_train.reshape(X_train.shape[0], rows, cols, 1)\n",
    "X_test = X_test.reshape(X_test.shape[0], rows, cols, 1)\n",
    "\n",
    "y_train = y_train.reshape(y_train.shape[0], rows, cols, 1)\n",
    "y_test = y_test.reshape(y_test.shape[0], rows, cols, 1)\n",
    "\n",
    "X_train = X_train.astype('float32')\n",
    "X_test = X_test.astype('float32')\n",
    "\n",
    "y_train = y_train.astype('float32')\n",
    "y_test = y_test.astype('float32')"
   ]
  },
  {
   "cell_type": "code",
   "execution_count": null,
   "metadata": {},
   "outputs": [],
   "source": []
  }
 ],
 "metadata": {
  "kernelspec": {
   "display_name": "Python 3",
   "language": "python",
   "name": "python3"
  },
  "language_info": {
   "codemirror_mode": {
    "name": "ipython",
    "version": 3
   },
   "file_extension": ".py",
   "mimetype": "text/x-python",
   "name": "python",
   "nbconvert_exporter": "python",
   "pygments_lexer": "ipython3",
   "version": "3.8.0"
  }
 },
 "nbformat": 4,
 "nbformat_minor": 2
}
